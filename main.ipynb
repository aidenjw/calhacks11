{
 "cells": [
  {
   "cell_type": "code",
   "execution_count": 5,
   "metadata": {},
   "outputs": [],
   "source": [
    "import os\n",
    "from openai import OpenAI\n",
    "\n",
    "openai_api_key = os.environ.get('OPENAI_API_KEY')\n",
    "deepgram_api_key = os.environ.get('DEEPGRAM_API_KEY')\n"
   ]
  },
  {
   "cell_type": "code",
   "execution_count": 7,
   "metadata": {},
   "outputs": [],
   "source": [
    "\n",
    "client = OpenAI()\n",
    "def createAssistant():\n",
    "    assistant = client.beta.assistants.create(\n",
    "        name = \"Mental Health Assistant\", \n",
    "        instructions = \"You are an assistant who is generating prompts to help a professional in talking to someone with mental health concerns. Generate potential responses for what the professional could say/ask\", \n",
    "        tools = [],\n",
    "        model = \"gpt-4o\",\n",
    "    )\n",
    "    return assistant\n",
    "\n",
    "def openCoversation(whichassistant):\n",
    "    thread = client.beta.threads.create()\n",
    "\n",
    "assistant1 = createAssistant()"
   ]
  },
  {
   "cell_type": "code",
   "execution_count": null,
   "metadata": {},
   "outputs": [],
   "source": [
    "    "
   ]
  }
 ],
 "metadata": {
  "kernelspec": {
   "display_name": "Python 3",
   "language": "python",
   "name": "python3"
  },
  "language_info": {
   "codemirror_mode": {
    "name": "ipython",
    "version": 3
   },
   "file_extension": ".py",
   "mimetype": "text/x-python",
   "name": "python",
   "nbconvert_exporter": "python",
   "pygments_lexer": "ipython3",
   "version": "3.11.7"
  }
 },
 "nbformat": 4,
 "nbformat_minor": 2
}
