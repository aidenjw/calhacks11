{
 "cells": [
  {
   "cell_type": "code",
   "execution_count": null,
   "metadata": {},
   "outputs": [],
   "source": [
    "import os\n",
    "from openai import OpenAI\n",
    "\n",
    "openai_api_key = os.environ.get('OPENAI_API_KEY')\n",
    "deepgram_api_key = os.environ.get('DEEPGRAM_API_KEY')\n"
   ]
  },
  {
   "cell_type": "code",
   "execution_count": null,
   "metadata": {},
   "outputs": [],
   "source": [
    "\n",
    "client = OpenAI()\n",
    "def createAssistant():\n",
    "    assistant = client.beta.assistants.create(\n",
    "        name = \"Mental Health Assistant\", \n",
    "        instructions = \"You are an assistant who is generating prompts to help a professional in talking to someone with mental health concerns. Generate potential responses for what the professional could say/ask\", \n",
    "        tools = [{\"type\":\"file_search\"}],\n",
    "        model = \"gpt-4o\",\n",
    "    )\n",
    "    return assistant\n",
    "\n",
    "def uploadFiles(assistantname, files):\n",
    "    vector_store = client.beta.vector_stores.create(name=\"Mental Health Documents\")\n",
    "    file_paths = files\n",
    "    file_streams = [open(path, \"rb\") for path in file_paths]\n",
    "    file_batch = client.beta.vector_stores.file_batches.upload_and_poll(\n",
    "        vector_store_id=vector_store.id, files=file_streams)\n",
    "    assistant = client.beta.assistants.update(\n",
    "        assistant_id=assistantname.id, tool_resources={\"file_search\": {\"vector_store_ids\": [vector_store.id]}}\n",
    "    )\n",
    "\n",
    "def openCoversation():\n",
    "    thread = client.beta.threads.create()\n",
    "    return thread\n",
    "\n",
    "def askQuestion(thread, query):\n",
    "    message = client.beta.threads.messages.create(\n",
    "    thread_id = thread.id,\n",
    "    role = \"user\",\n",
    "    content = query\n",
    "    )\n",
    "\n"
   ]
  },
  {
   "cell_type": "code",
   "execution_count": null,
   "metadata": {},
   "outputs": [
    {
     "name": "stdout",
     "output_type": "stream",
     "text": [
      "Mental health training often covers recognizing signs, asking questions, validating experiences, and encouraging treatment【4:2†SUICIDE_AWARENESS_PREVENTION_TRAINING.pdf】.\n"
     ]
    }
   ],
   "source": [
    "\n",
    "assistant = createAssistant()\n",
    "conversation = openCoversation()\n",
    "uploadFiles(assistant, [\"SUICIDE_AWARENESS_PREVENTION_TRAINING.pdf\"])\n",
    "\n",
    "\n",
    "askQuestion(conversation, input())\n",
    "\n",
    "run = client.beta.threads.runs.create_and_poll(\n",
    "thread_id = conversation.id,\n",
    "assistant_id = assistant.id,\n",
    "instructions = \"Answer the questions in a brief 15 words. The input you are given is a response from someone with mental health issues. Suggest some responses that could be said, using the uploaded files to aid your answer\"\n",
    ")\n",
    "\n",
    "if run.status == 'completed': \n",
    "  messages = client.beta.threads.messages.list(\n",
    "    thread_id=conversation.id\n",
    "  )\n",
    "  print(messages.data[0].content[0].text.value)\n",
    "else:\n",
    "  print(run.status)\n",
    "\n",
    "\n",
    "\n",
    "    "
   ]
  }
 ],
 "metadata": {
  "kernelspec": {
   "display_name": "Python 3",
   "language": "python",
   "name": "python3"
  },
  "language_info": {
   "codemirror_mode": {
    "name": "ipython",
    "version": 3
   },
   "file_extension": ".py",
   "mimetype": "text/x-python",
   "name": "python",
   "nbconvert_exporter": "python",
   "pygments_lexer": "ipython3",
   "version": "3.11.7"
  }
 },
 "nbformat": 4,
 "nbformat_minor": 2
}
